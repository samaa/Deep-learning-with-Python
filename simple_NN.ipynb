{
  "nbformat": 4,
  "nbformat_minor": 0,
  "metadata": {
    "colab": {
      "name": "simple NN",
      "provenance": [],
      "collapsed_sections": [],
      "authorship_tag": "ABX9TyNKzzJI+Qb9GuWmk3iinOV1",
      "include_colab_link": true
    },
    "kernelspec": {
      "name": "python3",
      "display_name": "Python 3"
    },
    "language_info": {
      "name": "python"
    }
  },
  "cells": [
    {
      "cell_type": "markdown",
      "metadata": {
        "id": "view-in-github",
        "colab_type": "text"
      },
      "source": [
        "<a href=\"https://colab.research.google.com/github/samaa/Deep-learning-with-Python/blob/master/simple_NN.ipynb\" target=\"_parent\"><img src=\"https://colab.research.google.com/assets/colab-badge.svg\" alt=\"Open In Colab\"/></a>"
      ]
    },
    {
      "cell_type": "code",
      "execution_count": 1,
      "metadata": {
        "id": "zmnOtU9x5fQw"
      },
      "outputs": [],
      "source": [
        "import tensorflow as tf\n",
        "import numpy as np\n",
        "from tensorflow import keras"
      ]
    },
    {
      "cell_type": "code",
      "source": [
        "model = tf.keras.Sequential()\n",
        "model.add(keras.layers.Dense(units=4, input_shape=(4,)))\n"
      ],
      "metadata": {
        "id": "N-sj4ar95imQ"
      },
      "execution_count": 2,
      "outputs": []
    },
    {
      "cell_type": "markdown",
      "source": [
        ""
      ],
      "metadata": {
        "id": "NVB81Hw4rohI"
      }
    },
    {
      "cell_type": "code",
      "source": [
        "xs = np.array([, 2.0, 3.0, 4.0], dtype=float)\n",
        "\n",
        "ys = np.array([-2.0, 1.0, 4.0, 7.0, 10.0, 13.0], dtype=float)"
      ],
      "metadata": {
        "id": "hEyDjZ-oqqmq"
      },
      "execution_count": null,
      "outputs": []
    }
  ]
}